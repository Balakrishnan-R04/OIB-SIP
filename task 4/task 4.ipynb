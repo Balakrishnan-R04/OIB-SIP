{
 "cells": [
  {
   "cell_type": "code",
   "execution_count": 1,
   "metadata": {},
   "outputs": [
    {
     "name": "stderr",
     "output_type": "stream",
     "text": [
      "[nltk_data] Downloading package vader_lexicon to C:\\Users\\Bala\n",
      "[nltk_data]     Krishnan\\AppData\\Roaming\\nltk_data...\n",
      "[nltk_data]   Package vader_lexicon is already up-to-date!\n"
     ]
    },
    {
     "name": "stdout",
     "output_type": "stream",
     "text": [
      "Sentiment analysis completed. Output saved and visualized.\n"
     ]
    }
   ],
   "source": [
    "import pandas as pd\n",
    "import nltk\n",
    "import matplotlib.pyplot as plt\n",
    "import seaborn as sns\n",
    "from nltk.sentiment import SentimentIntensityAnalyzer\n",
    "from textblob import TextBlob\n",
    "\n",
    "# Download VADER for sentiment analysis\n",
    "nltk.download('vader_lexicon')\n",
    "sia = SentimentIntensityAnalyzer()\n",
    "\n",
    "# Load datasets\n",
    "twitter_data = pd.read_csv(\"Twitter_Data.csv\")\n",
    "user_reviews = pd.read_csv(\"user_reviews.csv\")\n",
    "\n",
    "# Function for VADER Sentiment Analysis\n",
    "def vader_sentiment(text):\n",
    "    if isinstance(text, str):\n",
    "        return sia.polarity_scores(text)['compound']\n",
    "    return 0\n",
    "\n",
    "# Function for TextBlob Sentiment Analysis\n",
    "def textblob_sentiment(text):\n",
    "    if isinstance(text, str):\n",
    "        return TextBlob(text).sentiment.polarity\n",
    "    return 0\n",
    "\n",
    "# Apply sentiment analysis\n",
    "if 'text' in twitter_data.columns:\n",
    "    twitter_data['sentiment_score'] = twitter_data['text'].apply(vader_sentiment)\n",
    "    twitter_data['sentiment_label'] = twitter_data['sentiment_score'].apply(lambda x: 'Positive' if x > 0.05 else ('Negative' if x < -0.05 else 'Neutral'))\n",
    "    twitter_data.to_csv(\"/mnt/data/Twitter_Data_Sentiment.csv\", index=False)\n",
    "    \n",
    "    print(\"Twitter Data Columns:\", twitter_data.columns)\n",
    "    print(\"Unique Sentiment Labels:\", twitter_data['sentiment_label'].unique())\n",
    "    print(\"Null Values:\", twitter_data['sentiment_label'].isnull().sum())\n",
    "    \n",
    "    # Visualization\n",
    "    plt.figure(figsize=(6, 4))\n",
    "    sns.countplot(x='sentiment_label', data=twitter_data, palette='coolwarm')\n",
    "    plt.title(\"Sentiment Distribution in Twitter Data\")\n",
    "    plt.xlabel(\"Sentiment\")\n",
    "    plt.ylabel(\"Count\")\n",
    "    plt.show()\n",
    "\n",
    "if 'review' in user_reviews.columns:\n",
    "    user_reviews['sentiment_score'] = user_reviews['review'].apply(textblob_sentiment)\n",
    "    user_reviews['sentiment_label'] = user_reviews['sentiment_score'].apply(lambda x: 'Positive' if x > 0 else ('Negative' if x < 0 else 'Neutral'))\n",
    "    user_reviews.to_csv(\"/mnt/data/User_Reviews_Sentiment.csv\", index=False)\n",
    "    \n",
    "    print(\"User Reviews Columns:\", user_reviews.columns)\n",
    "    print(\"Unique Sentiment Labels:\", user_reviews['sentiment_label'].unique())\n",
    "    print(\"Null Values:\", user_reviews['sentiment_label'].isnull().sum())\n",
    "    \n",
    "    # Visualization\n",
    "    plt.figure(figsize=(6, 4))\n",
    "    sns.countplot(x='sentiment_label', data=user_reviews, palette='coolwarm')\n",
    "    plt.title(\"Sentiment Distribution in User Reviews\")\n",
    "    plt.xlabel(\"Sentiment\")\n",
    "    plt.ylabel(\"Count\")\n",
    "    plt.show()\n",
    "\n",
    "print(\"Sentiment analysis completed. Output saved and visualized.\")\n"
   ]
  }
 ],
 "metadata": {
  "kernelspec": {
   "display_name": "Python 3",
   "language": "python",
   "name": "python3"
  },
  "language_info": {
   "codemirror_mode": {
    "name": "ipython",
    "version": 3
   },
   "file_extension": ".py",
   "mimetype": "text/x-python",
   "name": "python",
   "nbconvert_exporter": "python",
   "pygments_lexer": "ipython3",
   "version": "3.12.0"
  }
 },
 "nbformat": 4,
 "nbformat_minor": 2
}
