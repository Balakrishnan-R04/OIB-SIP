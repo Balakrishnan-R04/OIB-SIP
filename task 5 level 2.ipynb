{
 "cells": [
  {
   "cell_type": "code",
   "execution_count": 3,
   "metadata": {},
   "outputs": [
    {
     "name": "stdout",
     "output_type": "stream",
     "text": [
      "Corrections Made: {}\n"
     ]
    }
   ],
   "source": [
    "import pandas as pd\n",
    "from fuzzywuzzy import process\n",
    "from sklearn.impute import SimpleImputer\n",
    "\n",
    "def load_data(file_path):\n",
    "    \"\"\"Load the credit card dataset\"\"\"\n",
    "    return pd.read_csv('creditcard.csv')\n",
    "\n",
    "def autocorrect_column(df, column_name, threshold=80):\n",
    "    \"\"\"Autocorrect values in a categorical column using fuzzy matching\"\"\"\n",
    "    unique_values = df[column_name].dropna().unique()\n",
    "    corrected_values = {}\n",
    "    \n",
    "    for value in unique_values:\n",
    "        match, score = process.extractOne(value, unique_values)\n",
    "        if score >= threshold and value != match:\n",
    "            corrected_values[value] = match\n",
    "    \n",
    "    df[column_name] = df[column_name].replace(corrected_values)\n",
    "    return df, corrected_values\n",
    "\n",
    "def autocomplete(df, column_name):\n",
    "    \"\"\"Autocomplete missing values based on the most frequent value\"\"\"\n",
    "    imputer = SimpleImputer(strategy='most_frequent')\n",
    "    df[column_name] = imputer.fit_transform(df[[column_name]])\n",
    "    return df\n",
    "\n",
    "def analyze_and_correct_data(file_path):\n",
    "    \"\"\"Perform autocorrect and autocomplete on the dataset\"\"\"\n",
    "    df = load_data(file_path)\n",
    "    categorical_columns = df.select_dtypes(include=['object']).columns\n",
    "    \n",
    "    corrections = {}\n",
    "    for col in categorical_columns:\n",
    "        df, corrected_values = autocorrect_column(df, col)\n",
    "        corrections[col] = corrected_values\n",
    "        df = autocomplete(df, col)\n",
    "    \n",
    "    return df, corrections\n",
    "\n",
    "\n",
    "dataset_path = 'creditcard.csv'\n",
    "cleaned_df, corrections_made = analyze_and_correct_data(dataset_path)\n",
    "\n",
    "cleaned_df.to_csv('cleaned_creditcard.csv', index=False)\n",
    "\n",
    "\n",
    "print(\"Corrections Made:\", corrections_made)\n"
   ]
  }
 ],
 "metadata": {
  "kernelspec": {
   "display_name": "Python 3",
   "language": "python",
   "name": "python3"
  },
  "language_info": {
   "codemirror_mode": {
    "name": "ipython",
    "version": 3
   },
   "file_extension": ".py",
   "mimetype": "text/x-python",
   "name": "python",
   "nbconvert_exporter": "python",
   "pygments_lexer": "ipython3",
   "version": "3.12.0"
  }
 },
 "nbformat": 4,
 "nbformat_minor": 2
}
